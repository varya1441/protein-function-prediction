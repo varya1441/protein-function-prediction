{
 "cells": [
  {
   "cell_type": "code",
   "execution_count": 37,
   "metadata": {},
   "outputs": [],
   "source": [
    "from Bio import SeqIO\n",
    "import phylopandas as ph\n",
    "import numpy as np\n",
    "import pandas as pd\n",
    "from Bio.SwissProt import KeyWList\n",
    "\n",
    "import re\n",
    "import networkx as nx\n",
    "import obonet\n",
    "\n",
    "\n",
    "VECTOR_LEN=343"
   ]
  },
  {
   "cell_type": "code",
   "execution_count": 2,
   "metadata": {},
   "outputs": [],
   "source": [
    "records = list(SeqIO.parse(\"uniref.fasta\", \"fasta\"))"
   ]
  },
  {
   "cell_type": "code",
   "execution_count": 3,
   "metadata": {},
   "outputs": [],
   "source": [
    "df = ph.read_fasta('uniref.fasta')"
   ]
  },
  {
   "cell_type": "markdown",
   "metadata": {},
   "source": [
    "1 A, G, V\n",
    "\n",
    "2 I, L, F, P\n",
    "\n",
    "3 Y, M, T, S\n",
    "\n",
    "4 H, N, Q, W\n",
    "\n",
    "5 R, K\n",
    "\n",
    "6 D, E\n",
    "\n",
    "7 C\n"
   ]
  },
  {
   "cell_type": "code",
   "execution_count": 4,
   "metadata": {},
   "outputs": [],
   "source": [
    "triads={1:['A', 'G', 'V'],2:['I', 'L', 'F', 'P'], 3:['Y', 'M', 'T', 'S'],\n",
    "        4:['H', 'N', 'Q', 'W','B','Z'], 5:[ 'R', 'K','O'], 6:['D', 'E'], 7:['C','U']}\n",
    "def letter_to_number(item):\n",
    "    if item in triads[1]:\n",
    "        return 1\n",
    "    elif item in triads[2]:\n",
    "        return 2\n",
    "    elif item in triads[3]:\n",
    "        return 3\n",
    "    elif item in triads[4]:\n",
    "        return 4\n",
    "    elif item in triads[5]:\n",
    "        return 5\n",
    "    elif item in triads[6]:\n",
    "        return 6\n",
    "    elif item in triads[7]:\n",
    "        return 7\n",
    "    else: \n",
    "        return 0"
   ]
  },
  {
   "cell_type": "code",
   "execution_count": 5,
   "metadata": {},
   "outputs": [
    {
     "name": "stdout",
     "output_type": "stream",
     "text": [
      "874\n"
     ]
    }
   ],
   "source": [
    "seqs_numbers=[]\n",
    "check=0\n",
    "count=0\n",
    "for i, seq in enumerate(df.sequence):\n",
    "    seq_numbers=\"\"\n",
    "    for j,amino_acid in enumerate(seq):\n",
    "        let=letter_to_number(amino_acid)\n",
    "        if(let!=0):\n",
    "            seq_numbers+=(str(let))\n",
    "        else:\n",
    "            count+=1\n",
    "#             print(\"NEEEEEEEEEEEEEEEEEEEEEEEE\"+str(i))\n",
    "            check=1\n",
    "            df.drop([i],inplace=True)\n",
    "            break\n",
    "    if check==0:        \n",
    "        seqs_numbers.append(seq_numbers)    \n",
    "    else:\n",
    "        check=0\n",
    "print(count)   "
   ]
  },
  {
   "cell_type": "code",
   "execution_count": 6,
   "metadata": {},
   "outputs": [],
   "source": [
    "df[\"triad_method\"]=seqs_numbers"
   ]
  },
  {
   "cell_type": "code",
   "execution_count": 7,
   "metadata": {},
   "outputs": [
    {
     "data": {
      "text/plain": [
       "(183522, 6)"
      ]
     },
     "execution_count": 7,
     "metadata": {},
     "output_type": "execute_result"
    }
   ],
   "source": [
    "df.shape"
   ]
  },
  {
   "cell_type": "code",
   "execution_count": 8,
   "metadata": {},
   "outputs": [],
   "source": [
    "three_to_three={}\n",
    "f=1\n",
    "for i in range(1,8):\n",
    "    for j in range(1,8):\n",
    "        for k in range(1,8):\n",
    "            n=str(k)+str(j)+str(i)\n",
    "            three_to_three[n]=f\n",
    "            f+=1"
   ]
  },
  {
   "cell_type": "code",
   "execution_count": 9,
   "metadata": {},
   "outputs": [],
   "source": [
    "def create_vector(seq,i):\n",
    "    vect = np.zeros(VECTOR_LEN+1)\n",
    "    ln = len(seq)-2\n",
    "    for i in range(0, ln):\n",
    "        three = seq[i:i+3]\n",
    "        try:\n",
    "            vect[three_to_three[three]]+=1\n",
    "        except:\n",
    "            print(i)\n",
    "    return vect    "
   ]
  },
  {
   "cell_type": "code",
   "execution_count": 10,
   "metadata": {},
   "outputs": [
    {
     "data": {
      "text/plain": [
       "343"
      ]
     },
     "execution_count": 10,
     "metadata": {},
     "output_type": "execute_result"
    }
   ],
   "source": [
    "len(three_to_three)"
   ]
  },
  {
   "cell_type": "code",
   "execution_count": 11,
   "metadata": {},
   "outputs": [],
   "source": [
    "vectors_of_tree=[]\n",
    "for i, seq in enumerate(df['triad_method']):    \n",
    "    vectors_of_tree.append(create_vector(seq,i))    "
   ]
  },
  {
   "cell_type": "code",
   "execution_count": 12,
   "metadata": {},
   "outputs": [
    {
     "data": {
      "text/plain": [
       "183522"
      ]
     },
     "execution_count": 12,
     "metadata": {},
     "output_type": "execute_result"
    }
   ],
   "source": [
    "len(vectors_of_tree)"
   ]
  },
  {
   "cell_type": "code",
   "execution_count": 13,
   "metadata": {},
   "outputs": [],
   "source": [
    "df['vectors']=vectors_of_tree"
   ]
  },
  {
   "cell_type": "markdown",
   "metadata": {},
   "source": []
  },
  {
   "cell_type": "markdown",
   "metadata": {},
   "source": []
  },
  {
   "cell_type": "code",
   "execution_count": 14,
   "metadata": {},
   "outputs": [],
   "source": [
    "import re\n",
    "arr_i=[]\n",
    "for i,ids in enumerate(df.id):\n",
    "    arr_i.append(re.sub('UniRef50_', '', ids))"
   ]
  },
  {
   "cell_type": "code",
   "execution_count": 15,
   "metadata": {},
   "outputs": [
    {
     "data": {
      "text/plain": [
       "183522"
      ]
     },
     "execution_count": 15,
     "metadata": {},
     "output_type": "execute_result"
    }
   ],
   "source": [
    "len(arr_i)"
   ]
  },
  {
   "cell_type": "code",
   "execution_count": 16,
   "metadata": {},
   "outputs": [
    {
     "data": {
      "text/plain": [
       "0         UniRef50_Q8WZ42\n",
       "1         UniRef50_G4SLH0\n",
       "2         UniRef50_Q9I7U4\n",
       "3         UniRef50_Q8WXI7\n",
       "4         UniRef50_Q09165\n",
       "               ...       \n",
       "184391    UniRef50_P85444\n",
       "184392    UniRef50_P83092\n",
       "184393    UniRef50_P80464\n",
       "184394    UniRef50_P12797\n",
       "184395    UniRef50_B3EWL7\n",
       "Name: id, Length: 183522, dtype: object"
      ]
     },
     "execution_count": 16,
     "metadata": {},
     "output_type": "execute_result"
    }
   ],
   "source": [
    "df.id"
   ]
  },
  {
   "cell_type": "code",
   "execution_count": 17,
   "metadata": {},
   "outputs": [],
   "source": [
    "df.id=arr_i"
   ]
  },
  {
   "cell_type": "code",
   "execution_count": 18,
   "metadata": {},
   "outputs": [],
   "source": [
    "data = pd.read_csv('uniprot-reviewed_yes.tab',sep = '\\t')"
   ]
  },
  {
   "cell_type": "code",
   "execution_count": 19,
   "metadata": {},
   "outputs": [],
   "source": [
    "data=data[data.Entry.isin(df.id)]"
   ]
  },
  {
   "cell_type": "code",
   "execution_count": 20,
   "metadata": {},
   "outputs": [],
   "source": [
    "data.dropna(inplace=True)"
   ]
  },
  {
   "cell_type": "code",
   "execution_count": 21,
   "metadata": {},
   "outputs": [],
   "source": [
    "data.reset_index(inplace=True)"
   ]
  },
  {
   "cell_type": "code",
   "execution_count": 22,
   "metadata": {},
   "outputs": [],
   "source": [
    "id_arr_not_final = []\n",
    "term_arr_not_final = []\n",
    "\n",
    "tmp_count = -1\n",
    "termS = {}\n",
    "arr_of_terms=[]\n",
    "for i,line1 in enumerate(data['Gene ontology (molecular function)']):\n",
    "    termList = re.findall(r'(GO:[0-9]+)', line1)\n",
    "    try:\n",
    "        tmp_l = []\n",
    "        for i,elem in enumerate(termList):\n",
    "            tmp_l.append(elem[3:])\n",
    "        termS[data.Entry[i]]=tmp_l\n",
    "        arr_of_terms.append(tmp_l)\n",
    "    except Exception as e:\n",
    "        print(e)\n",
    "        print(termList)"
   ]
  },
  {
   "cell_type": "code",
   "execution_count": 23,
   "metadata": {},
   "outputs": [],
   "source": [
    "data['Termin']=arr_of_terms"
   ]
  },
  {
   "cell_type": "code",
   "execution_count": 24,
   "metadata": {},
   "outputs": [],
   "source": [
    "data.drop(columns=['index'], inplace=True)"
   ]
  },
  {
   "cell_type": "code",
   "execution_count": 25,
   "metadata": {
    "scrolled": true
   },
   "outputs": [],
   "source": [
    "df.reset_index(inplace=True)"
   ]
  },
  {
   "cell_type": "code",
   "execution_count": 26,
   "metadata": {},
   "outputs": [],
   "source": [
    "df.drop(columns=['index'], inplace=True)"
   ]
  },
  {
   "cell_type": "code",
   "execution_count": 27,
   "metadata": {},
   "outputs": [],
   "source": [
    "data=data.sort_values(by=['Entry'])\n",
    "df= df.sort_values(by='id',  na_position='first')"
   ]
  },
  {
   "cell_type": "code",
   "execution_count": 28,
   "metadata": {},
   "outputs": [],
   "source": [
    "lala={}\n",
    "for index, row in df.iterrows():\n",
    "    lala[row['id']]=row['vectors'].tolist()"
   ]
  },
  {
   "cell_type": "code",
   "execution_count": 29,
   "metadata": {},
   "outputs": [],
   "source": [
    "elem=[]\n",
    "for i in data.Entry:\n",
    "    try:\n",
    "        elem.append(lala[i])\n",
    "#         print('ok')\n",
    "    except Exception as e:\n",
    "        print(i)"
   ]
  },
  {
   "cell_type": "code",
   "execution_count": 30,
   "metadata": {},
   "outputs": [],
   "source": [
    "data['vector']=elem"
   ]
  },
  {
   "cell_type": "code",
   "execution_count": 31,
   "metadata": {},
   "outputs": [],
   "source": [
    "# data"
   ]
  },
  {
   "cell_type": "code",
   "execution_count": 32,
   "metadata": {},
   "outputs": [],
   "source": [
    "# data.to_csv(r'data.csv',index=False)"
   ]
  },
  {
   "cell_type": "code",
   "execution_count": 33,
   "metadata": {},
   "outputs": [],
   "source": [
    "# data=pd.read_csv('data.csv')"
   ]
  },
  {
   "cell_type": "code",
   "execution_count": 34,
   "metadata": {},
   "outputs": [],
   "source": [
    "# data"
   ]
  },
  {
   "cell_type": "code",
   "execution_count": 35,
   "metadata": {},
   "outputs": [
    {
     "name": "stdout",
     "output_type": "stream",
     "text": [
      "44508\n",
      "91124\n",
      "True\n"
     ]
    }
   ],
   "source": [
    "graph = obonet.read_obo('http://purl.obolibrary.org/obo/go/go-basic.obo')\n",
    "\n",
    "# Number of nodes\n",
    "print(len(graph))\n",
    "print(graph.number_of_edges())\n",
    "print(networkx.is_directed_acyclic_graph(graph))"
   ]
  },
  {
   "cell_type": "code",
   "execution_count": 38,
   "metadata": {},
   "outputs": [],
   "source": [
    "# import networkx as nx\n",
    "# graph = obonet.read_obo('http://purl.obolibrary.org/obo/go/go-basic.obo')\n",
    "\n",
    "gProc = nx.DiGraph()\n",
    "gComp = nx.DiGraph()\n",
    "gFunc = nx.DiGraph()\n",
    "for i, node in enumerate(graph.nodes):\n",
    "    elem = graph.nodes[node]\n",
    "    \n",
    "    idName=node[3:]\n",
    "    if idName == 'er_in_t':\n",
    "        print('here')\n",
    "    else:    \n",
    "        if elem.get(\"namespace\")=='cellular_component':\n",
    "            gComp.add_node(idName)\n",
    "        if elem.get(\"namespace\")=='biological_process':\n",
    "            gProc.add_node(idName)\n",
    "        if elem.get(\"namespace\")=='molecular_function':\n",
    "            gFunc.add_node(idName)    \n",
    "    if elem.get(\"is_a\"):\n",
    "        parent = elem.get(\"is_a\")[0][3:]\n",
    "        if elem.get(\"namespace\")=='cellular_component':\n",
    "            gComp.add_edge(idName,parent)\n",
    "        if elem.get(\"namespace\")=='biological_process':\n",
    "            gProc.add_edge(idName,parent)\n",
    "        if elem.get(\"namespace\")=='molecular_function':\n",
    "            gFunc.add_edge(idName,parent)"
   ]
  },
  {
   "cell_type": "code",
   "execution_count": 39,
   "metadata": {},
   "outputs": [
    {
     "name": "stdout",
     "output_type": "stream",
     "text": [
      "4184\n",
      "29211\n",
      "11113\n"
     ]
    }
   ],
   "source": [
    "print(gComp.number_of_nodes())\n",
    "print(gProc.number_of_nodes())\n",
    "print(gFunc.number_of_nodes())\n",
    "dic = {}\n",
    "for i, node in enumerate(graph.nodes):\n",
    "    elem = graph.nodes[node]\n",
    "    if elem.get('alt_id'):\n",
    "        dic[node[3:]]=elem.get('alt_id')[0][3:]"
   ]
  },
  {
   "cell_type": "code",
   "execution_count": 40,
   "metadata": {},
   "outputs": [
    {
     "name": "stdout",
     "output_type": "stream",
     "text": [
      "11113\n",
      "1711\n",
      "616\n",
      "264\n",
      "125\n",
      "31\n",
      "['0016740', '0005488', '0008324', '0005515', '0060089', '0036094', '0016491', '0016462', '0003676', '0038023', '0003674', '0097159', '0003824', '0016787', '0016818', '0016747', '0016788', '0005215', '0005216', '0015075', '0022857', '0005342', '0015144', '0016407', '0016741', '0022890', '0022803', '0098772', '0016772', '0016746', '0016817']\n",
      "--------------------------------------\n"
     ]
    }
   ],
   "source": [
    "gFuncTemp = gFunc.copy()\n",
    "print(gFuncTemp.number_of_nodes())\n",
    "leaf = [x for x in gFuncTemp.nodes() if gFuncTemp.out_degree(x)!=0 and gFuncTemp.in_degree(x)==0]\n",
    "gFuncTemp.remove_nodes_from(leaf)\n",
    "gFuncCut1 = gFuncTemp.copy()\n",
    "print(gFuncTemp.number_of_nodes())\n",
    "leafTemp = [x for x in gFuncTemp.nodes() if gFuncTemp.out_degree(x)!=0 and gFuncTemp.in_degree(x)==0]\n",
    "gFuncTemp.remove_nodes_from(leafTemp)\n",
    "print(gFuncTemp.number_of_nodes())\n",
    "\n",
    "leafTemp1 = [x for x in gFuncTemp.nodes() if gFuncTemp.out_degree(x)!=0 and gFuncTemp.in_degree(x)==0]\n",
    "gFuncTemp.remove_nodes_from(leafTemp1)\n",
    "print(gFuncTemp.number_of_nodes())\n",
    "\n",
    "leafTemp2 = [x for x in gFuncTemp.nodes() if gFuncTemp.out_degree(x)!=0 and gFuncTemp.in_degree(x)==0]\n",
    "gFuncTemp.remove_nodes_from(leafTemp2)\n",
    "print(gFuncTemp.number_of_nodes())\n",
    "leafTemp3 = [x for x in gFuncTemp.nodes() if gFuncTemp.out_degree(x)!=0 and gFuncTemp.in_degree(x)==0]\n",
    "gFuncTemp.remove_nodes_from(leafTemp3)\n",
    "leafTemp3 = [x for x in gFuncTemp.nodes() if gFuncTemp.out_degree(x)!=0 and gFuncTemp.in_degree(x)==0]\n",
    "gFuncTemp.remove_nodes_from(leafTemp3)\n",
    "print(gFuncTemp.number_of_nodes())\n",
    "print(gFuncTemp.nodes())\n",
    "print('--------------------------------------')\n",
    "term_arr=list(gFuncTemp.nodes())\n",
    "term_arr.sort()\n",
    "TERM_VECTOR_LEN=len(term_arr)"
   ]
  },
  {
   "cell_type": "code",
   "execution_count": 41,
   "metadata": {},
   "outputs": [
    {
     "name": "stdout",
     "output_type": "stream",
     "text": [
      "CPU times: user 16 µs, sys: 0 ns, total: 16 µs\n",
      "Wall time: 26.2 µs\n"
     ]
    }
   ],
   "source": [
    "%%time\n",
    "wrong=set()\n",
    "def find_parents(id_name):\n",
    "    list_descendants=[]\n",
    "    try:\n",
    "        list_descendants = nx.descendants(gFunc, id_name)\n",
    "    except Exception as e:\n",
    "        if id_name=='0044212':\n",
    "            find_parents('0000976')\n",
    "        else:\n",
    "            wrong.update([id_name])\n",
    "    return list_descendants\n"
   ]
  },
  {
   "cell_type": "code",
   "execution_count": 42,
   "metadata": {},
   "outputs": [
    {
     "data": {
      "text/plain": [
       "31"
      ]
     },
     "execution_count": 42,
     "metadata": {},
     "output_type": "execute_result"
    }
   ],
   "source": [
    "TERM_VECTOR_LEN"
   ]
  },
  {
   "cell_type": "code",
   "execution_count": 43,
   "metadata": {},
   "outputs": [
    {
     "name": "stdout",
     "output_type": "stream",
     "text": [
      "CPU times: user 11.5 s, sys: 24 ms, total: 11.6 s\n",
      "Wall time: 11.6 s\n"
     ]
    }
   ],
   "source": [
    "%%time\n",
    "arr_vec_term=[]\n",
    "max_len=0\n",
    "exep=set()\n",
    "for termins in data.Termin:\n",
    "    vect=np.zeros(TERM_VECTOR_LEN)\n",
    "    aset=set()\n",
    "    for j in termins:        \n",
    "#         aset.update([j])\n",
    "        aset.update(find_parents(j))\n",
    "    if max_len<len(aset):\n",
    "        max_len=len(aset)\n",
    "    for term_aset in aset:\n",
    "        try:\n",
    "            vect[term_arr.index(term_aset)]=1\n",
    "        except Exception as e:\n",
    "            exep.update(term_aset)\n",
    "    arr_vec_term.append(vect)\n",
    "    "
   ]
  },
  {
   "cell_type": "code",
   "execution_count": 44,
   "metadata": {},
   "outputs": [],
   "source": [
    "data['term_vec_non_zero']=arr_vec_term"
   ]
  },
  {
   "cell_type": "code",
   "execution_count": 45,
   "metadata": {},
   "outputs": [
    {
     "data": {
      "text/html": [
       "<div>\n",
       "<style scoped>\n",
       "    .dataframe tbody tr th:only-of-type {\n",
       "        vertical-align: middle;\n",
       "    }\n",
       "\n",
       "    .dataframe tbody tr th {\n",
       "        vertical-align: top;\n",
       "    }\n",
       "\n",
       "    .dataframe thead th {\n",
       "        text-align: right;\n",
       "    }\n",
       "</style>\n",
       "<table border=\"1\" class=\"dataframe\">\n",
       "  <thead>\n",
       "    <tr style=\"text-align: right;\">\n",
       "      <th></th>\n",
       "      <th>Entry</th>\n",
       "      <th>Gene ontology (molecular function)</th>\n",
       "      <th>Termin</th>\n",
       "      <th>vector</th>\n",
       "      <th>term_vec_non_zero</th>\n",
       "    </tr>\n",
       "  </thead>\n",
       "  <tbody>\n",
       "    <tr>\n",
       "      <th>95391</th>\n",
       "      <td>A0A009IHW8</td>\n",
       "      <td>NAD(P)+ nucleosidase activity [GO:0050135]; NA...</td>\n",
       "      <td>[0050135, 0003953, 0061809]</td>\n",
       "      <td>[0.0, 0.0, 2.0, 1.0, 0.0, 3.0, 0.0, 0.0, 1.0, ...</td>\n",
       "      <td>[1.0, 0.0, 1.0, 0.0, 0.0, 0.0, 0.0, 0.0, 0.0, ...</td>\n",
       "    </tr>\n",
       "    <tr>\n",
       "      <th>46075</th>\n",
       "      <td>A0A023IWI4</td>\n",
       "      <td>toxin activity [GO:0090729]</td>\n",
       "      <td>[0090729]</td>\n",
       "      <td>[0.0, 0.0, 0.0, 1.0, 0.0, 0.0, 0.0, 0.0, 0.0, ...</td>\n",
       "      <td>[1.0, 0.0, 0.0, 0.0, 0.0, 0.0, 0.0, 0.0, 0.0, ...</td>\n",
       "    </tr>\n",
       "    <tr>\n",
       "      <th>18271</th>\n",
       "      <td>A0A023IWM6</td>\n",
       "      <td>toxin activity [GO:0090729]</td>\n",
       "      <td>[0090729]</td>\n",
       "      <td>[0.0, 0.0, 0.0, 0.0, 0.0, 0.0, 0.0, 0.0, 1.0, ...</td>\n",
       "      <td>[1.0, 0.0, 0.0, 0.0, 0.0, 0.0, 0.0, 0.0, 0.0, ...</td>\n",
       "    </tr>\n",
       "    <tr>\n",
       "      <th>53991</th>\n",
       "      <td>A0A023UCC1</td>\n",
       "      <td>toxin activity [GO:0090729]</td>\n",
       "      <td>[0090729]</td>\n",
       "      <td>[0.0, 0.0, 0.0, 0.0, 0.0, 0.0, 0.0, 1.0, 0.0, ...</td>\n",
       "      <td>[1.0, 0.0, 0.0, 0.0, 0.0, 0.0, 0.0, 0.0, 0.0, ...</td>\n",
       "    </tr>\n",
       "    <tr>\n",
       "      <th>126599</th>\n",
       "      <td>A0A023VZF1</td>\n",
       "      <td>toxin activity [GO:0090729]</td>\n",
       "      <td>[0090729]</td>\n",
       "      <td>[0.0, 2.0, 0.0, 0.0, 1.0, 0.0, 0.0, 0.0, 0.0, ...</td>\n",
       "      <td>[1.0, 0.0, 0.0, 0.0, 0.0, 0.0, 0.0, 0.0, 0.0, ...</td>\n",
       "    </tr>\n",
       "    <tr>\n",
       "      <th>...</th>\n",
       "      <td>...</td>\n",
       "      <td>...</td>\n",
       "      <td>...</td>\n",
       "      <td>...</td>\n",
       "      <td>...</td>\n",
       "    </tr>\n",
       "    <tr>\n",
       "      <th>97248</th>\n",
       "      <td>X5CWH9</td>\n",
       "      <td>2 iron, 2 sulfur cluster binding [GO:0051537];...</td>\n",
       "      <td>[0051537, 0009055, 0046872]</td>\n",
       "      <td>[0.0, 1.0, 1.0, 0.0, 0.0, 0.0, 1.0, 1.0, 1.0, ...</td>\n",
       "      <td>[1.0, 0.0, 1.0, 0.0, 0.0, 0.0, 1.0, 0.0, 0.0, ...</td>\n",
       "    </tr>\n",
       "    <tr>\n",
       "      <th>130698</th>\n",
       "      <td>X5HYT8</td>\n",
       "      <td>DNA binding [GO:0003677]; DNA-binding transcri...</td>\n",
       "      <td>[0003677, 0003700]</td>\n",
       "      <td>[0.0, 20.0, 5.0, 2.0, 2.0, 1.0, 5.0, 1.0, 2.0,...</td>\n",
       "      <td>[1.0, 1.0, 0.0, 0.0, 0.0, 0.0, 1.0, 0.0, 0.0, ...</td>\n",
       "    </tr>\n",
       "    <tr>\n",
       "      <th>34986</th>\n",
       "      <td>X5IWS1</td>\n",
       "      <td>ion channel inhibitor activity [GO:0008200]; t...</td>\n",
       "      <td>[0008200, 0090729]</td>\n",
       "      <td>[0.0, 1.0, 2.0, 0.0, 0.0, 0.0, 0.0, 2.0, 1.0, ...</td>\n",
       "      <td>[1.0, 0.0, 0.0, 0.0, 0.0, 0.0, 0.0, 0.0, 0.0, ...</td>\n",
       "    </tr>\n",
       "    <tr>\n",
       "      <th>110763</th>\n",
       "      <td>X5M5N0</td>\n",
       "      <td>ATP binding [GO:0005524]; chloride channel inh...</td>\n",
       "      <td>[0005524, 0019869, 0019870, 0004674]</td>\n",
       "      <td>[0.0, 28.0, 10.0, 15.0, 6.0, 5.0, 6.0, 0.0, 24...</td>\n",
       "      <td>[1.0, 0.0, 1.0, 0.0, 0.0, 0.0, 1.0, 0.0, 0.0, ...</td>\n",
       "    </tr>\n",
       "    <tr>\n",
       "      <th>12814</th>\n",
       "      <td>X5M8U1</td>\n",
       "      <td>ATP binding [GO:0005524]; GTP binding [GO:0005...</td>\n",
       "      <td>[0005524, 0005525, 0004383, 0001653, 0004672]</td>\n",
       "      <td>[0.0, 23.0, 4.0, 8.0, 5.0, 6.0, 5.0, 2.0, 9.0,...</td>\n",
       "      <td>[1.0, 0.0, 1.0, 0.0, 0.0, 0.0, 1.0, 0.0, 0.0, ...</td>\n",
       "    </tr>\n",
       "  </tbody>\n",
       "</table>\n",
       "<p>139586 rows × 5 columns</p>\n",
       "</div>"
      ],
      "text/plain": [
       "             Entry                 Gene ontology (molecular function)  \\\n",
       "95391   A0A009IHW8  NAD(P)+ nucleosidase activity [GO:0050135]; NA...   \n",
       "46075   A0A023IWI4                        toxin activity [GO:0090729]   \n",
       "18271   A0A023IWM6                        toxin activity [GO:0090729]   \n",
       "53991   A0A023UCC1                        toxin activity [GO:0090729]   \n",
       "126599  A0A023VZF1                        toxin activity [GO:0090729]   \n",
       "...            ...                                                ...   \n",
       "97248       X5CWH9  2 iron, 2 sulfur cluster binding [GO:0051537];...   \n",
       "130698      X5HYT8  DNA binding [GO:0003677]; DNA-binding transcri...   \n",
       "34986       X5IWS1  ion channel inhibitor activity [GO:0008200]; t...   \n",
       "110763      X5M5N0  ATP binding [GO:0005524]; chloride channel inh...   \n",
       "12814       X5M8U1  ATP binding [GO:0005524]; GTP binding [GO:0005...   \n",
       "\n",
       "                                               Termin  \\\n",
       "95391                     [0050135, 0003953, 0061809]   \n",
       "46075                                       [0090729]   \n",
       "18271                                       [0090729]   \n",
       "53991                                       [0090729]   \n",
       "126599                                      [0090729]   \n",
       "...                                               ...   \n",
       "97248                     [0051537, 0009055, 0046872]   \n",
       "130698                             [0003677, 0003700]   \n",
       "34986                              [0008200, 0090729]   \n",
       "110763           [0005524, 0019869, 0019870, 0004674]   \n",
       "12814   [0005524, 0005525, 0004383, 0001653, 0004672]   \n",
       "\n",
       "                                                   vector  \\\n",
       "95391   [0.0, 0.0, 2.0, 1.0, 0.0, 3.0, 0.0, 0.0, 1.0, ...   \n",
       "46075   [0.0, 0.0, 0.0, 1.0, 0.0, 0.0, 0.0, 0.0, 0.0, ...   \n",
       "18271   [0.0, 0.0, 0.0, 0.0, 0.0, 0.0, 0.0, 0.0, 1.0, ...   \n",
       "53991   [0.0, 0.0, 0.0, 0.0, 0.0, 0.0, 0.0, 1.0, 0.0, ...   \n",
       "126599  [0.0, 2.0, 0.0, 0.0, 1.0, 0.0, 0.0, 0.0, 0.0, ...   \n",
       "...                                                   ...   \n",
       "97248   [0.0, 1.0, 1.0, 0.0, 0.0, 0.0, 1.0, 1.0, 1.0, ...   \n",
       "130698  [0.0, 20.0, 5.0, 2.0, 2.0, 1.0, 5.0, 1.0, 2.0,...   \n",
       "34986   [0.0, 1.0, 2.0, 0.0, 0.0, 0.0, 0.0, 2.0, 1.0, ...   \n",
       "110763  [0.0, 28.0, 10.0, 15.0, 6.0, 5.0, 6.0, 0.0, 24...   \n",
       "12814   [0.0, 23.0, 4.0, 8.0, 5.0, 6.0, 5.0, 2.0, 9.0,...   \n",
       "\n",
       "                                        term_vec_non_zero  \n",
       "95391   [1.0, 0.0, 1.0, 0.0, 0.0, 0.0, 0.0, 0.0, 0.0, ...  \n",
       "46075   [1.0, 0.0, 0.0, 0.0, 0.0, 0.0, 0.0, 0.0, 0.0, ...  \n",
       "18271   [1.0, 0.0, 0.0, 0.0, 0.0, 0.0, 0.0, 0.0, 0.0, ...  \n",
       "53991   [1.0, 0.0, 0.0, 0.0, 0.0, 0.0, 0.0, 0.0, 0.0, ...  \n",
       "126599  [1.0, 0.0, 0.0, 0.0, 0.0, 0.0, 0.0, 0.0, 0.0, ...  \n",
       "...                                                   ...  \n",
       "97248   [1.0, 0.0, 1.0, 0.0, 0.0, 0.0, 1.0, 0.0, 0.0, ...  \n",
       "130698  [1.0, 1.0, 0.0, 0.0, 0.0, 0.0, 1.0, 0.0, 0.0, ...  \n",
       "34986   [1.0, 0.0, 0.0, 0.0, 0.0, 0.0, 0.0, 0.0, 0.0, ...  \n",
       "110763  [1.0, 0.0, 1.0, 0.0, 0.0, 0.0, 1.0, 0.0, 0.0, ...  \n",
       "12814   [1.0, 0.0, 1.0, 0.0, 0.0, 0.0, 1.0, 0.0, 0.0, ...  \n",
       "\n",
       "[139586 rows x 5 columns]"
      ]
     },
     "execution_count": 45,
     "metadata": {},
     "output_type": "execute_result"
    }
   ],
   "source": [
    "data"
   ]
  },
  {
   "cell_type": "code",
   "execution_count": 46,
   "metadata": {},
   "outputs": [],
   "source": [
    "seq_file = open('seq_file_31.txt','w')\n",
    "id_file = open('id_file_31.txt','w')\n",
    "\n",
    "for index, row in data.iterrows():\n",
    "    id_file.write(row['Entry'] + '\\n')\n",
    "    seq_file.write(str(row['vector']).strip()+ '\\n')\n",
    "#     term_file.write(str(row['term_vec']).strip()+ '\\n')\n",
    "id_file.close()  \n",
    "seq_file.close()  \n"
   ]
  },
  {
   "cell_type": "code",
   "execution_count": 47,
   "metadata": {},
   "outputs": [],
   "source": [
    "term_file = open('term_file_31.txt','w')\n",
    "\n",
    "for line in arr_vec_term:  \n",
    "    term_file.write(str(line).strip().replace('\\n', '') + '\\n')\n",
    "term_file.close()        "
   ]
  },
  {
   "cell_type": "code",
   "execution_count": 49,
   "metadata": {},
   "outputs": [
    {
     "name": "stdout",
     "output_type": "stream",
     "text": [
      "[1. 0. 1. 0. 0. 0. 0. 0. 0. 0. 0. 0. 0. 0. 0. 0. 0. 0. 0. 1. 0. 0. 0. 0. 0. 0. 0. 0. 0. 0. 0.]\n",
      "\n"
     ]
    }
   ],
   "source": [
    "with open('term_file_31.txt','r') as file:\n",
    "    for line in file:\n",
    "        print(line)\n",
    "        break\n",
    "        \n",
    "        "
   ]
  },
  {
   "cell_type": "code",
   "execution_count": null,
   "metadata": {},
   "outputs": [],
   "source": []
  }
 ],
 "metadata": {
  "kernelspec": {
   "display_name": "Python 3",
   "language": "python",
   "name": "python3"
  },
  "language_info": {
   "codemirror_mode": {
    "name": "ipython",
    "version": 3
   },
   "file_extension": ".py",
   "mimetype": "text/x-python",
   "name": "python",
   "nbconvert_exporter": "python",
   "pygments_lexer": "ipython3",
   "version": "3.7.3"
  }
 },
 "nbformat": 4,
 "nbformat_minor": 2
}
