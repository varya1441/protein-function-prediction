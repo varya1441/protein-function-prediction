{
 "cells": [
  {
   "cell_type": "code",
   "execution_count": 1,
   "metadata": {},
   "outputs": [],
   "source": [
    "from Bio import SeqIO\n",
    "import phylopandas as ph\n",
    "import numpy as np\n",
    "import pandas as pd\n",
    "from Bio.SwissProt import KeyWList\n",
    "from goatools.semantic import semantic_similarity\n",
    "\n",
    "\n",
    "import re\n",
    "import networkx\n",
    "import obonet\n",
    "\n",
    "from sklearn import linear_model\n",
    "VECTOR_LEN=344\n",
    "MAST_LEN=31"
   ]
  },
  {
   "cell_type": "code",
   "execution_count": 2,
   "metadata": {},
   "outputs": [],
   "source": [
    "final_id = []\n",
    "final_seq = []\n",
    "final_term = []\n",
    "with open('seq_file_31.txt','r') as file:\n",
    "    for line in file:\n",
    "        final_seq.append(line.strip())\n",
    "with open('id_file_31.txt','r') as file:\n",
    "    for line in file:\n",
    "        final_id.append(line.strip())\n",
    "with open('term_file_31.txt','r') as file:\n",
    "    for line in file:\n",
    "        final_term.append(line.strip())"
   ]
  },
  {
   "cell_type": "code",
   "execution_count": 3,
   "metadata": {},
   "outputs": [],
   "source": [
    "terms=[]\n",
    "for i in final_term:    \n",
    "    m = re.sub('[\\[\\]\\.\\s]', '', i)\n",
    "    terms.append(m)"
   ]
  },
  {
   "cell_type": "code",
   "execution_count": 10,
   "metadata": {},
   "outputs": [],
   "source": [
    "rows = 0\n",
    "cols = 0\n",
    "X = [[0 for v in range(343)] for j in range(len(final_seq))]\n",
    "\n",
    "for line in final_seq:\n",
    "    st = []\n",
    "    new_l = []\n",
    "    s = ''\n",
    "\n",
    "    st = re.sub('[\\[\\]\\,]|', '', line)\n",
    "   \n",
    "    new_l = st.split(' ')\n",
    "    for line1 in new_l[1:]:\n",
    "        X[rows][cols] = int(float(line1))\n",
    "        cols += 1\n",
    "    rows += 1\n",
    "    cols = 0"
   ]
  },
  {
   "cell_type": "code",
   "execution_count": 11,
   "metadata": {},
   "outputs": [],
   "source": [
    "arr_int = []\n",
    "for i in terms:\n",
    "    arr_int.append(float(int(i,2)))\n",
    "            "
   ]
  },
  {
   "cell_type": "code",
   "execution_count": 12,
   "metadata": {},
   "outputs": [],
   "source": [
    "x_train, x_validate, x_test = np.split(X, [int(.7*len(X)), int(.9*len(X))])"
   ]
  },
  {
   "cell_type": "code",
   "execution_count": 13,
   "metadata": {},
   "outputs": [],
   "source": [
    "y_train, y_validate, y_test = np.split(arr_int, [int(.7*len(arr_int)), int(.9*len(arr_int))])"
   ]
  },
  {
   "cell_type": "code",
   "execution_count": 8,
   "metadata": {},
   "outputs": [],
   "source": [
    "b=list(np.where(y_train == 0)[0])\n",
    "a=list(np.where(y_validate == 0)[0])\n",
    "c=list(np.where(y_test == 0)[0])\n",
    "ids=a+b+c\n"
   ]
  },
  {
   "cell_type": "code",
   "execution_count": 9,
   "metadata": {},
   "outputs": [],
   "source": [
    "for i in ids:\n",
    "    del terms[i]\n",
    "    del final_seq[i]\n",
    "    del final_id[i]"
   ]
  },
  {
   "cell_type": "code",
   "execution_count": 14,
   "metadata": {},
   "outputs": [],
   "source": [
    "Y=terms.copy()"
   ]
  },
  {
   "cell_type": "code",
   "execution_count": 25,
   "metadata": {},
   "outputs": [],
   "source": [
    "Y_train, Y_validate, Y_test = np.split(Y, [int(.7*len(Y)), int(.9*len(Y))])"
   ]
  },
  {
   "cell_type": "code",
   "execution_count": 67,
   "metadata": {},
   "outputs": [
    {
     "name": "stdout",
     "output_type": "stream",
     "text": [
      "CPU times: user 12.5 s, sys: 2.73 s, total: 15.2 s\n",
      "Wall time: 5.23 s\n"
     ]
    },
    {
     "name": "stderr",
     "output_type": "stream",
     "text": [
      "/home/varvara/snap/jupyter/common/lib/python3.7/site-packages/scipy/linalg/basic.py:1231: RuntimeWarning: overflow encountered in square\n",
      "  resids = np.sum(np.abs(x[n:])**2, axis=0)\n"
     ]
    }
   ],
   "source": [
    "%%time\n",
    "\n",
    "reg_model_fit = linear_model.LinearRegression(fit_intercept=True,normalize=False)\n",
    "reg_model_fit.fit(x_train,y_train)"
   ]
  },
  {
   "cell_type": "code",
   "execution_count": 93,
   "metadata": {},
   "outputs": [],
   "source": [
    "pred_fit = reg_model_fit.predict(x_validate)"
   ]
  },
  {
   "cell_type": "code",
   "execution_count": 94,
   "metadata": {},
   "outputs": [],
   "source": [
    "pred_test = reg_model_fit.predict(x_test)\n"
   ]
  },
  {
   "cell_type": "code",
   "execution_count": 15,
   "metadata": {},
   "outputs": [],
   "source": [
    "tobin = lambda x, count=8: \"\".join(map(lambda y:str((x>>y)&1), range(count-1, -1, -1)))"
   ]
  },
  {
   "cell_type": "code",
   "execution_count": 96,
   "metadata": {},
   "outputs": [],
   "source": [
    "pred_y_valid_fit=[]\n",
    "for i in pred_fit:\n",
    "    num_bin=tobin(int(i),MAST_LEN)\n",
    "    ln=len(num_bin)\n",
    "    if ln<MAST_LEN:\n",
    "        for j in range(MAST_LEN-ln):\n",
    "            num_bin='0'+num_bin\n",
    "#     if ln==32:\n",
    "#         print(i)\n",
    "    pred_y_valid_fit.append(num_bin)"
   ]
  },
  {
   "cell_type": "code",
   "execution_count": 103,
   "metadata": {},
   "outputs": [],
   "source": [
    "pred_y_test_fit=[]\n",
    "for i in pred_test:\n",
    "    num_bin=tobin(int(i),MAST_LEN)\n",
    "    ln=len(num_bin)\n",
    "    if ln<MAST_LEN:\n",
    "        for j in range(MAST_LEN-ln):\n",
    "            num_bin='0'+num_bin\n",
    "    pred_y_test_fit.append(num_bin)"
   ]
  },
  {
   "cell_type": "code",
   "execution_count": 104,
   "metadata": {},
   "outputs": [
    {
     "data": {
      "text/plain": [
       "'0000000000000000000000000111000010000000000100000000000000000000000000000000000000000000000000000000000000000000000000000000000000000000000000000000010000000000000000000000000000000000000000000000000000000000000000000000000000000000000000000000000000000000000000000000000000000000000000000000000000000000000000000000000000000000000000000000000000000000000000000000000000000000000000000000000000000000000000000000000000000000000000000000000000000000000000000000000000000000000000000000000000000000000000000000000000000000000000000000000000000000000000000000000000000000000000000000000010000000000000101000000000000000'"
      ]
     },
     "execution_count": 104,
     "metadata": {},
     "output_type": "execute_result"
    }
   ],
   "source": [
    "Y_test[0]"
   ]
  },
  {
   "cell_type": "code",
   "execution_count": 105,
   "metadata": {},
   "outputs": [
    {
     "data": {
      "text/plain": [
       "'0000000111001010001001100001100101000111111001000110010100000000000000000000000000000000000000000000000000000000000000000000000000000000000000000000000000000000000000000000000000000000000000000000000000000000000000000000000000000000000000000000000000000000000000000000000000000000000000000000000000000000000000000000000000000000000000000000000000000000000000000000000000000000000000000000000000000000000000000000000000000000000000000000000000000000000000000000000000000000000000000000000000000000000000000000000000000000000000000000000000000000000000000000000000000000000000000000000000000000000000000000000000000000'"
      ]
     },
     "execution_count": 105,
     "metadata": {},
     "output_type": "execute_result"
    }
   ],
   "source": [
    "pred_y_test_fit[0]"
   ]
  },
  {
   "cell_type": "code",
   "execution_count": 106,
   "metadata": {},
   "outputs": [
    {
     "name": "stderr",
     "output_type": "stream",
     "text": [
      "100%|██████████| 13954/13954 [00:51<00:00, 269.97it/s]\n"
     ]
    }
   ],
   "source": [
    "from tqdm import tqdm\n",
    "metr = []\n",
    "cmns=0\n",
    "for i in tqdm(range(len(x_test))):\n",
    "    numM=my_metrics(Y_test[i],pred_y_test_fit[i])\n",
    "    if numM==-1:\n",
    "        cmns+=1\n",
    "    else:    \n",
    "        metr.append(numM)"
   ]
  },
  {
   "cell_type": "code",
   "execution_count": 107,
   "metadata": {},
   "outputs": [
    {
     "name": "stdout",
     "output_type": "stream",
     "text": [
      "0.6427714144016113\n",
      "8961.519059587265\n"
     ]
    }
   ],
   "source": [
    "xx = sum(metr)\n",
    "print(xx/(len(metr)))\n",
    "print(xx)"
   ]
  },
  {
   "cell_type": "code",
   "execution_count": 108,
   "metadata": {},
   "outputs": [
    {
     "data": {
      "image/png": "[encoded data removed]",
      "text/plain": [
       "<Figure size 432x288 with 1 Axes>"
      ]
     },
     "metadata": {
      "needs_background": "light"
     },
     "output_type": "display_data"
    }
   ],
   "source": [
    "import matplotlib.pyplot as plt\n",
    "plt.hist(metr)\n",
    "plt.show()"
   ]
  },
  {
   "cell_type": "code",
   "execution_count": 109,
   "metadata": {},
   "outputs": [
    {
     "name": "stderr",
     "output_type": "stream",
     "text": [
      "100%|██████████| 27906/27906 [01:43<00:00, 269.64it/s]\n"
     ]
    }
   ],
   "source": [
    "from tqdm import tqdm\n",
    "metr = []\n",
    "cmns=0\n",
    "for i in tqdm(range(len(x_validate))):\n",
    "    numM=my_metrics(Y_validate[i],pred_y_valid_fit[i])\n",
    "    if numM==-1:\n",
    "        cmns+=1\n",
    "    else:    \n",
    "        metr.append(numM)"
   ]
  },
  {
   "cell_type": "code",
   "execution_count": 110,
   "metadata": {},
   "outputs": [
    {
     "name": "stdout",
     "output_type": "stream",
     "text": [
      "0.6439325982079571\n",
      "17963.14375960917\n"
     ]
    }
   ],
   "source": [
    "xx = sum(metr)\n",
    "print(xx/(len(metr)))\n",
    "print(xx)"
   ]
  },
  {
   "cell_type": "code",
   "execution_count": 111,
   "metadata": {},
   "outputs": [
    {
     "data": {
      "image/png": "[encoded data removed]",
      "text/plain": [
       "<Figure size 432x288 with 1 Axes>"
      ]
     },
     "metadata": {
      "needs_background": "light"
     },
     "output_type": "display_data"
    }
   ],
   "source": [
    "import matplotlib.pyplot as plt\n",
    "plt.hist(metr)\n",
    "plt.show()"
   ]
  },
  {
   "cell_type": "code",
   "execution_count": 112,
   "metadata": {},
   "outputs": [
    {
     "data": {
      "text/plain": [
       "Ridge(alpha=1.0, copy_X=True, fit_intercept=False, max_iter=None,\n",
       "      normalize=False, random_state=None, solver='auto', tol=0.001)"
      ]
     },
     "execution_count": 112,
     "metadata": {},
     "output_type": "execute_result"
    }
   ],
   "source": [
    "from sklearn.linear_model import Ridge\n",
    "\n",
    "random_forest = Ridge(fit_intercept = False)\n",
    "random_forest.fit(x_train, y_train) "
   ]
  },
  {
   "cell_type": "code",
   "execution_count": 113,
   "metadata": {},
   "outputs": [],
   "source": [
    "pred_v_rr = random_forest.predict(x_validate)"
   ]
  },
  {
   "cell_type": "code",
   "execution_count": 114,
   "metadata": {},
   "outputs": [],
   "source": [
    "pred_t_rr = random_forest.predict(x_test)"
   ]
  },
  {
   "cell_type": "code",
   "execution_count": 115,
   "metadata": {},
   "outputs": [],
   "source": [
    "pred_y_valid_rr=[]\n",
    "for i in pred_v_rr:\n",
    "    num_bin=tobin(int(i),MAST_LEN)\n",
    "    ln=len(num_bin)\n",
    "    if ln<MAST_LEN:\n",
    "        for j in range(MAST_LEN-ln):\n",
    "            num_bin='0'+num_bin\n",
    "    pred_y_valid_rr.append(num_bin)"
   ]
  },
  {
   "cell_type": "code",
   "execution_count": 116,
   "metadata": {},
   "outputs": [
    {
     "name": "stderr",
     "output_type": "stream",
     "text": [
      "100%|██████████| 27906/27906 [01:45<00:00, 265.12it/s]\n"
     ]
    }
   ],
   "source": [
    "from tqdm import tqdm\n",
    "metr = []\n",
    "cmns=0\n",
    "for i in tqdm(range(len(x_validate))):\n",
    "    numM=my_metrics(Y_validate[i],pred_y_valid_rr[i])\n",
    "    if numM==-1:\n",
    "        cmns+=1\n",
    "    else:    \n",
    "        metr.append(numM)"
   ]
  },
  {
   "cell_type": "code",
   "execution_count": 117,
   "metadata": {},
   "outputs": [
    {
     "name": "stdout",
     "output_type": "stream",
     "text": [
      "0.6423380449145801\n",
      "17918.662100937127\n"
     ]
    }
   ],
   "source": [
    "xx = sum(metr)\n",
    "print(xx/(len(metr)))\n",
    "print(xx)"
   ]
  },
  {
   "cell_type": "code",
   "execution_count": 118,
   "metadata": {},
   "outputs": [
    {
     "data": {
      "image/png": "[encoded data removed]",
      "text/plain": [
       "<Figure size 432x288 with 1 Axes>"
      ]
     },
     "metadata": {
      "needs_background": "light"
     },
     "output_type": "display_data"
    }
   ],
   "source": [
    "import matplotlib.pyplot as plt\n",
    "plt.hist(metr)\n",
    "plt.show()"
   ]
  },
  {
   "cell_type": "code",
   "execution_count": 119,
   "metadata": {},
   "outputs": [],
   "source": [
    "pred_y_t_rr=[]\n",
    "for i in pred_t_rr:\n",
    "    num_bin=tobin(int(i),MAST_LEN)\n",
    "    ln=len(num_bin)\n",
    "    if ln<MAST_LEN:\n",
    "        for j in range(MAST_LEN-ln):\n",
    "            num_bin='0'+num_bin\n",
    "    pred_y_t_rr.append(num_bin)"
   ]
  },
  {
   "cell_type": "code",
   "execution_count": 120,
   "metadata": {},
   "outputs": [
    {
     "name": "stderr",
     "output_type": "stream",
     "text": [
      "100%|██████████| 13954/13954 [00:54<00:00, 255.54it/s]\n"
     ]
    }
   ],
   "source": [
    "from tqdm import tqdm\n",
    "metr = []\n",
    "cmns=0\n",
    "for i in tqdm(range(len(x_test))):\n",
    "    numM=my_metrics(Y_test[i],pred_y_t_rr[i])\n",
    "    if numM==-1:\n",
    "        cmns+=1\n",
    "    else:    \n",
    "        metr.append(numM)"
   ]
  },
  {
   "cell_type": "code",
   "execution_count": 121,
   "metadata": {},
   "outputs": [
    {
     "name": "stdout",
     "output_type": "stream",
     "text": [
      "0.642412171169962\n",
      "8956.51049045161\n"
     ]
    }
   ],
   "source": [
    "xx = sum(metr)\n",
    "print(xx/(len(metr)))\n",
    "print(xx)"
   ]
  },
  {
   "cell_type": "code",
   "execution_count": 122,
   "metadata": {},
   "outputs": [
    {
     "data": {
      "image/png": "[encoded data removed]",
      "text/plain": [
       "<Figure size 432x288 with 1 Axes>"
      ]
     },
     "metadata": {
      "needs_background": "light"
     },
     "output_type": "display_data"
    }
   ],
   "source": [
    "import matplotlib.pyplot as plt\n",
    "plt.hist(metr)\n",
    "plt.show()"
   ]
  },
  {
   "cell_type": "code",
   "execution_count": 123,
   "metadata": {},
   "outputs": [],
   "source": [
    "from sklearn.tree import DecisionTreeRegressor\n",
    "import matplotlib.pyplot as plt\n",
    "\n",
    "\n",
    "regr_1 = DecisionTreeRegressor(max_depth=2)\n",
    "regr_2 = DecisionTreeRegressor(max_depth=5)"
   ]
  },
  {
   "cell_type": "code",
   "execution_count": 124,
   "metadata": {},
   "outputs": [
    {
     "data": {
      "text/plain": [
       "DecisionTreeRegressor(ccp_alpha=0.0, criterion='mse', max_depth=5,\n",
       "                      max_features=None, max_leaf_nodes=None,\n",
       "                      min_impurity_decrease=0.0, min_impurity_split=None,\n",
       "                      min_samples_leaf=1, min_samples_split=2,\n",
       "                      min_weight_fraction_leaf=0.0, presort='deprecated',\n",
       "                      random_state=None, splitter='best')"
      ]
     },
     "execution_count": 124,
     "metadata": {},
     "output_type": "execute_result"
    }
   ],
   "source": [
    "regr_1.fit(x_train, y_train)\n",
    "regr_2.fit(x_train, y_train)"
   ]
  },
  {
   "cell_type": "code",
   "execution_count": 131,
   "metadata": {},
   "outputs": [],
   "source": [
    "y_1 = regr_1.predict(x_test)\n",
    "y_2 = regr_2.predict(x_test)"
   ]
  },
  {
   "cell_type": "code",
   "execution_count": 132,
   "metadata": {},
   "outputs": [],
   "source": [
    "pred_y_t_reg_1=[]\n",
    "for i in y_1:\n",
    "    num_bin=tobin(int(i),MAST_LEN)\n",
    "    ln=len(num_bin)\n",
    "    if ln<MAST_LEN:\n",
    "        for j in range(MAST_LEN-ln):\n",
    "            num_bin='0'+num_bin\n",
    "    pred_y_t_reg_1.append(num_bin)"
   ]
  },
  {
   "cell_type": "code",
   "execution_count": 133,
   "metadata": {},
   "outputs": [],
   "source": [
    "pred_y_t_reg_2=[]\n",
    "for i in y_2:\n",
    "    num_bin=tobin(int(i),MAST_LEN)\n",
    "    ln=len(num_bin)\n",
    "    if ln<MAST_LEN:\n",
    "        for j in range(MAST_LEN-ln):\n",
    "            num_bin='0'+num_bin\n",
    "    pred_y_t_reg_2.append(num_bin)"
   ]
  },
  {
   "cell_type": "code",
   "execution_count": 134,
   "metadata": {},
   "outputs": [
    {
     "name": "stderr",
     "output_type": "stream",
     "text": [
      "100%|██████████| 13954/13954 [00:52<00:00, 266.29it/s]\n"
     ]
    }
   ],
   "source": [
    "from tqdm import tqdm\n",
    "metr = []\n",
    "cmns=0\n",
    "for i in tqdm(range(len(x_test))):\n",
    "    numM=my_metrics(Y_test[i],pred_y_t_reg_2[i])\n",
    "    if numM==-1:\n",
    "        cmns+=1\n",
    "    else:    \n",
    "        metr.append(numM)"
   ]
  },
  {
   "cell_type": "code",
   "execution_count": 135,
   "metadata": {},
   "outputs": [
    {
     "name": "stdout",
     "output_type": "stream",
     "text": [
      "0.6346702961259332\n",
      "8848.573268587761\n"
     ]
    }
   ],
   "source": [
    "xx = sum(metr)\n",
    "print(xx/(len(metr)))\n",
    "print(xx)"
   ]
  },
  {
   "cell_type": "code",
   "execution_count": 136,
   "metadata": {},
   "outputs": [
    {
     "data": {
      "image/png": "[encoded data removed]",
      "text/plain": [
       "<Figure size 432x288 with 1 Axes>"
      ]
     },
     "metadata": {
      "needs_background": "light"
     },
     "output_type": "display_data"
    }
   ],
   "source": [
    "import matplotlib.pyplot as plt\n",
    "plt.hist(metr)\n",
    "plt.show()"
   ]
  },
  {
   "cell_type": "code",
   "execution_count": 137,
   "metadata": {},
   "outputs": [
    {
     "name": "stdout",
     "output_type": "stream",
     "text": [
      "CPU times: user 7.95 s, sys: 208 ms, total: 8.15 s\n",
      "Wall time: 8.13 s\n"
     ]
    }
   ],
   "source": [
    "%%time\n",
    "from sklearn.neighbors import KNeighborsRegressor\n",
    "kneighbor_regression = KNeighborsRegressor(n_neighbors=5,n_jobs=-1,weights='distance')\n",
    "kneighbor_regression.fit(x_train, y_train)"
   ]
  },
  {
   "cell_type": "code",
   "execution_count": 138,
   "metadata": {},
   "outputs": [
    {
     "name": "stdout",
     "output_type": "stream",
     "text": [
      "CPU times: user 29min 27s, sys: 487 ms, total: 29min 28s\n",
      "Wall time: 29min 29s\n"
     ]
    }
   ],
   "source": [
    "%%time\n",
    "y_pred_val= kneighbor_regression.predict(x_validate)"
   ]
  },
  {
   "cell_type": "code",
   "execution_count": 139,
   "metadata": {},
   "outputs": [
    {
     "name": "stdout",
     "output_type": "stream",
     "text": [
      "CPU times: user 14min 13s, sys: 39.2 ms, total: 14min 13s\n",
      "Wall time: 14min 13s\n"
     ]
    }
   ],
   "source": [
    "%%time\n",
    "y_pred_test= kneighbor_regression.predict(x_test)"
   ]
  },
  {
   "cell_type": "code",
   "execution_count": 140,
   "metadata": {},
   "outputs": [],
   "source": [
    "y_pred_val111=list(np.where(y_pred_test == 0.0)[0])"
   ]
  },
  {
   "cell_type": "code",
   "execution_count": 141,
   "metadata": {},
   "outputs": [
    {
     "data": {
      "text/plain": [
       "array([4.05227060e+177, 4.05227015e+177, 4.66819225e+177, ...,\n",
       "       5.88567791e+183, 5.07447819e+177, 4.05227433e+177])"
      ]
     },
     "execution_count": 141,
     "metadata": {},
     "output_type": "execute_result"
    }
   ],
   "source": [
    "y_pred_val"
   ]
  },
  {
   "cell_type": "code",
   "execution_count": 196,
   "metadata": {},
   "outputs": [],
   "source": [
    "\n",
    "pred_fit_valid_y_num_file = open('pred_fit_test_y_num_knn.txt','w')\n",
    "for line in y_pred_val:\n",
    "    pred_fit_valid_y_num_file.write(str(int(line))+'\\n')    \n",
    "pred_fit_valid_y_num_file.close()"
   ]
  },
  {
   "cell_type": "code",
   "execution_count": 142,
   "metadata": {},
   "outputs": [],
   "source": [
    "pred_y_valid_fit_knn=[]\n",
    "for i in y_pred_val:\n",
    "    num_bin=tobin(int(i),MAST_LEN)\n",
    "    ln=len(num_bin)\n",
    "    if ln<MAST_LEN:\n",
    "        for j in range(MAST_LEN-ln):\n",
    "            num_bin='0'+num_bin\n",
    "    pred_y_valid_fit_knn.append(num_bin)"
   ]
  },
  {
   "cell_type": "code",
   "execution_count": 143,
   "metadata": {},
   "outputs": [],
   "source": [
    "pred_y_test_fit_knn=[]\n",
    "for i in y_pred_test:\n",
    "    num_bin=tobin(int(i),MAST_LEN)\n",
    "    ln=len(num_bin)\n",
    "    if ln<MAST_LEN:\n",
    "        for j in range(MAST_LEN-ln):\n",
    "            num_bin='0'+num_bin\n",
    "    pred_y_test_fit_knn.append(num_bin)"
   ]
  },
  {
   "cell_type": "code",
   "execution_count": 144,
   "metadata": {},
   "outputs": [
    {
     "name": "stderr",
     "output_type": "stream",
     "text": [
      "100%|██████████| 13954/13954 [00:41<00:00, 336.50it/s]\n"
     ]
    }
   ],
   "source": [
    "from tqdm import tqdm\n",
    "metr = []\n",
    "cmns=0\n",
    "for i in tqdm(range(len(x_test))):\n",
    "    numM=my_metrics(Y_test[i],pred_y_test_fit_knn[i])\n",
    "    if numM==-1:\n",
    "        cmns+=1\n",
    "    else:    \n",
    "        metr.append(numM)"
   ]
  },
  {
   "cell_type": "code",
   "execution_count": 145,
   "metadata": {},
   "outputs": [
    {
     "name": "stdout",
     "output_type": "stream",
     "text": [
      "0.6359427006339416\n",
      "8866.313132238414\n"
     ]
    }
   ],
   "source": [
    "xx = 0.0\n",
    "for i in range(len(metr)):\n",
    "    if metr[i] == 1000000:\n",
    "        print(i)\n",
    "    else:\n",
    "        xx = xx + metr[i]\n",
    "print(xx/(len(metr)))\n",
    "print(xx)"
   ]
  },
  {
   "cell_type": "code",
   "execution_count": 146,
   "metadata": {},
   "outputs": [
    {
     "data": {
      "image/png": "[encoded data removed]",
      "text/plain": [
       "<Figure size 432x288 with 1 Axes>"
      ]
     },
     "metadata": {
      "needs_background": "light"
     },
     "output_type": "display_data"
    }
   ],
   "source": [
    "import matplotlib.pyplot as plt\n",
    "plt.hist(metr)\n",
    "plt.show()"
   ]
  },
  {
   "cell_type": "code",
   "execution_count": 147,
   "metadata": {},
   "outputs": [
    {
     "name": "stderr",
     "output_type": "stream",
     "text": [
      "100%|██████████| 13954/13954 [00:41<00:00, 333.08it/s]\n"
     ]
    }
   ],
   "source": [
    "from tqdm import tqdm\n",
    "metr_test = []\n",
    "for i in tqdm(range(len(x_test))):\n",
    "    metr_test.append(my_metrics(Y_test[i],pred_y_test_fit_knn[i]))"
   ]
  },
  {
   "cell_type": "code",
   "execution_count": 148,
   "metadata": {},
   "outputs": [
    {
     "name": "stdout",
     "output_type": "stream",
     "text": [
      "0.6345358414962315\n",
      "8854.313132238414\n"
     ]
    }
   ],
   "source": [
    "xx = 0.0\n",
    "for i in range(len(metr_test)):\n",
    "    if metr_test[i] == 1000000:\n",
    "        print(i)\n",
    "    else:\n",
    "        xx = xx + metr_test[i]\n",
    "print(xx/(len(metr_test)))\n",
    "print(xx)"
   ]
  },
  {
   "cell_type": "code",
   "execution_count": 150,
   "metadata": {},
   "outputs": [
    {
     "data": {
      "image/png": "[encoded data removed]",
      "text/plain": [
       "<Figure size 432x288 with 1 Axes>"
      ]
     },
     "metadata": {
      "needs_background": "light"
     },
     "output_type": "display_data"
    }
   ],
   "source": [
    "import matplotlib.pyplot as plt\n",
    "plt.hist(metr_test)\n",
    "plt.show()"
   ]
  },
  {
   "cell_type": "code",
   "execution_count": 156,
   "metadata": {},
   "outputs": [
    {
     "ename": "NameError",
     "evalue": "name 'metr_test' is not defined",
     "output_type": "error",
     "traceback": [
      "\u001b[0;31m---------------------------------------------------------------------------\u001b[0m",
      "\u001b[0;31mNameError\u001b[0m                                 Traceback (most recent call last)",
      "\u001b[0;32m<ipython-input-156-fe4168179d51>\u001b[0m in \u001b[0;36m<module>\u001b[0;34m\u001b[0m\n\u001b[1;32m      1\u001b[0m \u001b[0;32mimport\u001b[0m \u001b[0mmatplotlib\u001b[0m\u001b[0;34m.\u001b[0m\u001b[0mpyplot\u001b[0m \u001b[0;32mas\u001b[0m \u001b[0mplt\u001b[0m\u001b[0;34m\u001b[0m\u001b[0;34m\u001b[0m\u001b[0m\n\u001b[0;32m----> 2\u001b[0;31m \u001b[0mplt\u001b[0m\u001b[0;34m.\u001b[0m\u001b[0mhist\u001b[0m\u001b[0;34m(\u001b[0m\u001b[0mmetr_test\u001b[0m\u001b[0;34m,\u001b[0m\u001b[0;36m100\u001b[0m\u001b[0;34m)\u001b[0m\u001b[0;34m\u001b[0m\u001b[0;34m\u001b[0m\u001b[0m\n\u001b[0m\u001b[1;32m      3\u001b[0m \u001b[0mplt\u001b[0m\u001b[0;34m.\u001b[0m\u001b[0mshow\u001b[0m\u001b[0;34m(\u001b[0m\u001b[0;34m)\u001b[0m\u001b[0;34m\u001b[0m\u001b[0;34m\u001b[0m\u001b[0m\n",
      "\u001b[0;31mNameError\u001b[0m: name 'metr_test' is not defined"
     ]
    }
   ],
   "source": [
    "import matplotlib.pyplot as plt\n",
    "plt.hist(metr_test,100)\n",
    "plt.show()"
   ]
  },
  {
   "cell_type": "code",
   "execution_count": 157,
   "metadata": {},
   "outputs": [
    {
     "name": "stdout",
     "output_type": "stream",
     "text": [
      "CPU times: user 1.03 s, sys: 236 ms, total: 1.27 s\n",
      "Wall time: 590 ms\n"
     ]
    }
   ],
   "source": [
    "%%time\n",
    "from sklearn.linear_model import Ridge\n",
    "\n",
    "random_forest = Ridge(fit_intercept = False)\n",
    "random_forest.fit(x_train, y_train) "
   ]
  },
  {
   "cell_type": "code",
   "execution_count": 110,
   "metadata": {},
   "outputs": [],
   "source": [
    "pred_no_fit = reg_model_fit.predict(x_validate)"
   ]
  },
  {
   "cell_type": "code",
   "execution_count": 21,
   "metadata": {},
   "outputs": [
    {
     "data": {
      "text/plain": [
       "RandomForestRegressor(bootstrap=True, ccp_alpha=0.0, criterion='mse',\n",
       "                      max_depth=2, max_features='auto', max_leaf_nodes=None,\n",
       "                      max_samples=None, min_impurity_decrease=0.0,\n",
       "                      min_impurity_split=None, min_samples_leaf=1,\n",
       "                      min_samples_split=2, min_weight_fraction_leaf=0.0,\n",
       "                      n_estimators=100, n_jobs=None, oob_score=False,\n",
       "                      random_state=0, verbose=0, warm_start=False)"
      ]
     },
     "execution_count": 21,
     "metadata": {},
     "output_type": "execute_result"
    }
   ],
   "source": [
    "from sklearn.ensemble import RandomForestRegressor\n",
    "\n",
    "regr = RandomForestRegressor(max_depth=2, random_state=0)\n",
    "regr.fit(x_train, y_train)"
   ]
  },
  {
   "cell_type": "code",
   "execution_count": 30,
   "metadata": {},
   "outputs": [],
   "source": [
    "pred_v_reg = regr.predict(x_validate)"
   ]
  },
  {
   "cell_type": "code",
   "execution_count": 31,
   "metadata": {},
   "outputs": [],
   "source": [
    "pred_y_valid_fit_rf=[]\n",
    "for i in pred_v_reg:\n",
    "    num_bin=tobin(int(i),MAST_LEN)\n",
    "    ln=len(num_bin)\n",
    "    if ln<MAST_LEN:\n",
    "        for j in range(MAST_LEN-ln):\n",
    "            num_bin='0'+num_bin\n",
    "    pred_y_valid_fit_rf.append(num_bin)"
   ]
  },
  {
   "cell_type": "code",
   "execution_count": 32,
   "metadata": {},
   "outputs": [
    {
     "name": "stderr",
     "output_type": "stream",
     "text": [
      "100%|██████████| 27906/27906 [00:19<00:00, 1468.12it/s]\n"
     ]
    }
   ],
   "source": [
    "from tqdm import tqdm\n",
    "metr = []\n",
    "cmns=0\n",
    "for i in tqdm(range(len(x_validate))):\n",
    "    numM=my_metrics(Y_validate[i],pred_y_valid_fit_rf[i])\n",
    "    if numM==-1:\n",
    "        cmns+=1\n",
    "    else:    \n",
    "        metr.append(numM)"
   ]
  },
  {
   "cell_type": "code",
   "execution_count": 33,
   "metadata": {},
   "outputs": [
    {
     "name": "stdout",
     "output_type": "stream",
     "text": [
      "0.9382269170054546\n",
      "26172.77807678416\n"
     ]
    }
   ],
   "source": [
    "xx = sum(metr)\n",
    "print(xx/(len(metr)))\n",
    "print(xx)"
   ]
  },
  {
   "cell_type": "code",
   "execution_count": 34,
   "metadata": {},
   "outputs": [
    {
     "data": {
      "image/png": "[encoded data removed]",
      "text/plain": [
       "<Figure size 432x288 with 1 Axes>"
      ]
     },
     "metadata": {
      "needs_background": "light"
     },
     "output_type": "display_data"
    }
   ],
   "source": [
    "import matplotlib.pyplot as plt\n",
    "plt.hist(metr)\n",
    "plt.show()"
   ]
  },
  {
   "cell_type": "code",
   "execution_count": 19,
   "metadata": {},
   "outputs": [],
   "source": [
    "import networkx as nx\n",
    "graph = obonet.read_obo('http://purl.obolibrary.org/obo/go/go-basic.obo')\n",
    "\n",
    "gProc = nx.DiGraph()\n",
    "gComp = nx.DiGraph()\n",
    "gFunc = nx.DiGraph()\n",
    "for i, node in enumerate(graph.nodes):\n",
    "    elem = graph.nodes[node]\n",
    "    \n",
    "    idName=node[3:]\n",
    "    if idName == 'er_in_t':\n",
    "        print('here')\n",
    "    else:    \n",
    "        if elem.get(\"namespace\")=='cellular_component':\n",
    "            gComp.add_node(idName)\n",
    "        if elem.get(\"namespace\")=='biological_process':\n",
    "            gProc.add_node(idName)\n",
    "        if elem.get(\"namespace\")=='molecular_function':\n",
    "            gFunc.add_node(idName)    \n",
    "    if elem.get(\"is_a\"):\n",
    "        parent = elem.get(\"is_a\")[0][3:]\n",
    "        if elem.get(\"namespace\")=='cellular_component':\n",
    "            gComp.add_edge(idName,parent)\n",
    "        if elem.get(\"namespace\")=='biological_process':\n",
    "            gProc.add_edge(idName,parent)\n",
    "        if elem.get(\"namespace\")=='molecular_function':\n",
    "            gFunc.add_edge(idName,parent)"
   ]
  },
  {
   "cell_type": "code",
   "execution_count": 20,
   "metadata": {},
   "outputs": [
    {
     "name": "stdout",
     "output_type": "stream",
     "text": [
      "11113\n",
      "1711\n",
      "616\n",
      "264\n",
      "125\n",
      "64\n",
      "31\n",
      "--------------------------------------\n"
     ]
    }
   ],
   "source": [
    "gFuncTemp = gFunc.copy()\n",
    "print(gFuncTemp.number_of_nodes())\n",
    "leaf = [x for x in gFuncTemp.nodes() if gFuncTemp.out_degree(x)!=0 and gFuncTemp.in_degree(x)==0]\n",
    "gFuncTemp.remove_nodes_from(leaf)\n",
    "gFuncCut1 = gFuncTemp.copy()\n",
    "print(gFuncTemp.number_of_nodes())\n",
    "leafTemp = [x for x in gFuncTemp.nodes() if gFuncTemp.out_degree(x)!=0 and gFuncTemp.in_degree(x)==0]\n",
    "gFuncTemp.remove_nodes_from(leafTemp)\n",
    "print(gFuncTemp.number_of_nodes())\n",
    "leafTemp = [x for x in gFuncTemp.nodes() if gFuncTemp.out_degree(x)!=0 and gFuncTemp.in_degree(x)==0]\n",
    "gFuncTemp.remove_nodes_from(leafTemp)\n",
    "print(gFuncTemp.number_of_nodes())\n",
    "leafTemp = [x for x in gFuncTemp.nodes() if gFuncTemp.out_degree(x)!=0 and gFuncTemp.in_degree(x)==0]\n",
    "gFuncTemp.remove_nodes_from(leafTemp)\n",
    "print(gFuncTemp.number_of_nodes())\n",
    "leafTemp = [x for x in gFuncTemp.nodes() if gFuncTemp.out_degree(x)!=0 and gFuncTemp.in_degree(x)==0]\n",
    "gFuncTemp.remove_nodes_from(leafTemp)\n",
    "print(gFuncTemp.number_of_nodes())\n",
    "leafTemp = [x for x in gFuncTemp.nodes() if gFuncTemp.out_degree(x)!=0 and gFuncTemp.in_degree(x)==0]\n",
    "gFuncTemp.remove_nodes_from(leafTemp)\n",
    "print(gFuncTemp.number_of_nodes())\n",
    "print('--------------------------------------')\n",
    "term_arr=list(gFuncTemp.nodes())\n",
    "term_arr.sort()\n",
    "TERM_VECTOR_LEN=len(term_arr)"
   ]
  },
  {
   "cell_type": "code",
   "execution_count": 36,
   "metadata": {},
   "outputs": [
    {
     "data": {
      "image/png": "[encoded data removed]",
      "text/plain": [
       "<Figure size 432x288 with 1 Axes>"
      ]
     },
     "metadata": {},
     "output_type": "display_data"
    }
   ],
   "source": [
    "nx.draw_networkx(gFuncTemp, with_label = True, node_size=8) \n"
   ]
  },
  {
   "cell_type": "code",
   "execution_count": 32,
   "metadata": {},
   "outputs": [],
   "source": [
    "# def find_first_parents(id_name):\n",
    "#     list_descendants = nx.descendants(gFunc, id_name)\n",
    "# #     print(list_descendants)\n",
    "#     return list_descendants"
   ]
  },
  {
   "cell_type": "code",
   "execution_count": 33,
   "metadata": {},
   "outputs": [],
   "source": [
    "# def dist_in_tree(r,p):\n",
    "#     if r == p:\n",
    "#         return 0\n",
    "#     id_real = term_arr[r]\n",
    "#     id_pred = term_arr[p]\n",
    "#     if id_real == '0003674':\n",
    "#         return nx.shortest_path_length(gFunc,id_pred,id_real)\n",
    "#     l1 = find_first_parents(id_real)\n",
    "#     l2 = find_first_parents(id_pred) \n",
    "# #     print(l1)\n",
    "# #     print(l2)\n",
    "#     l3 = []\n",
    "#     for line in l1:\n",
    "#         for line1 in l2:\n",
    "#             if line == line1:\n",
    "#                 l3.append(line)\n",
    "# #     print(l3)            \n",
    "#     short_real = 10000000\n",
    "#     parent_real = ''\n",
    "#     for line in l3:\n",
    "#         s1 = nx.shortest_path_length(gFunc,id_real,line)\n",
    "#         if s1 < short_real:\n",
    "#             short_real = s1\n",
    "#             parent_real = line\n",
    "#     short_pred = 10000000\n",
    "#     parent_pred = ''\n",
    "#     for line in l3:\n",
    "#         s1 = nx.shortest_path_length(gFunc,id_pred,line)\n",
    "#         if s1 < short_pred:\n",
    "#             short_pred = s1\n",
    "#             parent_pred = line\n",
    "#     return max(short_pred,short_real)"
   ]
  },
  {
   "cell_type": "code",
   "execution_count": 27,
   "metadata": {},
   "outputs": [],
   "source": [
    "# def my_metrics(expc_y,pred_y):\n",
    "#     d = 1000000\n",
    "#     s = 0\n",
    "#     arr_d = []\n",
    "#     for i in range(MAST_LEN):\n",
    "#         if expc_y[i] == '1':\n",
    "#             d = 1000000\n",
    "#             for j in range(MAST_LEN):\n",
    "#                 if expc_y[i] == pred_y[j]:\n",
    "#                     s = dist_in_tree(i,j)\n",
    "#                     if s < d:\n",
    "#                         d = s\n",
    "#             arr_d.append(d)\n",
    "#     #print(arr_d)\n",
    "#     summ = sum(arr_d)\n",
    "#     real = expc_y.count('1')\n",
    "#     pred = pred_y.count('1')\n",
    "# #     if(real==0&pred==0):\n",
    "# #         return 0\n",
    "#     return summ/max(real,pred)"
   ]
  },
  {
   "cell_type": "code",
   "execution_count": 34,
   "metadata": {},
   "outputs": [],
   "source": [
    "# def my_metrics(expc_y,pred_y):\n",
    "#     valid=set()\n",
    "#     for ind,i in enumerate(expc_y):\n",
    "#          if i=='1':\n",
    "#             ss=find_first_parents(term_arr[ind])\n",
    "#             valid.update([term_arr[ind]])\n",
    "#             valid.update(ss)\n",
    "            \n",
    "#     for ind,i in enumerate(pred_y):\n",
    "#         if i=='1':\n",
    "#             ss=find_first_parents(term_arr[ind])\n",
    "#             pred.update([term_arr[ind]])\n",
    "#             pred.update(ss)\n",
    "            \n",
    "#     if  max(len(valid),len(pred))==0:\n",
    "#         return -1\n",
    "#     else:\n",
    "#         if len(valid)==0:\n",
    "#             return -1\n",
    "#         yyy=len(valid.difference(pred))\n",
    "#         return yyy/(max(len(valid),len(pred)))        \n",
    "        "
   ]
  },
  {
   "cell_type": "code",
   "execution_count": 16,
   "metadata": {},
   "outputs": [],
   "source": [
    "def my_metrics(expc_y,pred_y):\n",
    "    valid=set()\n",
    "    arr_of_sims=[]\n",
    "    for ind,i in enumerate(expc_y):\n",
    "        min_sim=[]    \n",
    "        if i=='1':\n",
    "            for jnd,j in enumerate(pred_y):\n",
    "                if j==i:\n",
    "                    id_real = term_arr[ind]\n",
    "                    id_pred = term_arr[jnd]\n",
    "                    try:\n",
    "                        sim = semantic_similarity('GO:'+id_real, 'GO:'+id_pred, godag)\n",
    "#                         print(sim)\n",
    "                    except Exception as e:\n",
    "#                         print(e)\n",
    "                        sim=0\n",
    "                    min_sim.append(sim) \n",
    "#         if len(min_sim)==0:\n",
    "#             return-1\n",
    "            arr_of_sims.append(max(min_sim))  \n",
    "    if len(arr_of_sims)==0:\n",
    "        return -1\n",
    "    return sum(arr_of_sims)/len(arr_of_sims)      \n",
    "        "
   ]
  },
  {
   "cell_type": "code",
   "execution_count": 39,
   "metadata": {},
   "outputs": [],
   "source": [
    "\n",
    "# valid=set()\n",
    "# for ind,i in enumerate( Y_test[0]):\n",
    "#     if i=='1':\n",
    "#         ss=find_first_parents(term_arr[ind])\n",
    "#         valid.update([term_arr[ind]])\n",
    "#         valid.update(ss)\n",
    "# #         for s in ss:\n",
    "# #                 try:\n",
    "# #                         valid.update(nx.ancestors(gFuncTemp, str(s)))\n",
    "# #                 except Exception as e:\n",
    "# #                     print(\"expe\")\n",
    "# #                     print(e)\n",
    "        \n",
    "# # pred=set()\n",
    "# # for ind,i in enumerate(pred_y_test_fit[0]):\n",
    "# #     if i=='1':\n",
    "# #         pred.update(find_first_parents(term_arr[ind]))     \n",
    "# # if  max(len(valid),len(pred))==0:\n",
    "# #        print(-1)\n",
    "# # else:\n",
    "# #     if len(valid)==0:\n",
    "# #           print(-1)\n",
    "# # yyy=len(pred.difference(valid))\n",
    "# # print( yyy/(max(len(valid),len(pred))))        \n"
   ]
  },
  {
   "cell_type": "code",
   "execution_count": 19,
   "metadata": {},
   "outputs": [
    {
     "data": {
      "text/plain": [
       "0"
      ]
     },
     "execution_count": 19,
     "metadata": {},
     "output_type": "execute_result"
    }
   ],
   "source": [
    "gFunc.number_of_edges('0003674', '0005488')\n",
    "# nx.shortest_path_length(gFunc,'0097159', '0005488')"
   ]
  },
  {
   "cell_type": "code",
   "execution_count": 17,
   "metadata": {},
   "outputs": [
    {
     "name": "stdout",
     "output_type": "stream",
     "text": [
      "go-basic.obo: fmt(1.2) rel(2020-03-23) 47,232 GO Terms\n"
     ]
    }
   ],
   "source": [
    "from goatools.obo_parser import GODag\n",
    "godag = GODag(\"go-basic.obo\")"
   ]
  },
  {
   "cell_type": "code",
   "execution_count": 85,
   "metadata": {},
   "outputs": [],
   "source": [
    "\n",
    "\n"
   ]
  },
  {
   "cell_type": "code",
   "execution_count": 86,
   "metadata": {},
   "outputs": [
    {
     "data": {
      "text/plain": [
       "0.5"
      ]
     },
     "execution_count": 86,
     "metadata": {},
     "output_type": "execute_result"
    }
   ],
   "source": [
    "sim"
   ]
  },
  {
   "cell_type": "code",
   "execution_count": null,
   "metadata": {},
   "outputs": [],
   "source": []
  }
 ],
 "metadata": {
  "kernelspec": {
   "display_name": "Python 3",
   "language": "python",
   "name": "python3"
  },
  "language_info": {
   "codemirror_mode": {
    "name": "ipython",
    "version": 3
   },
   "file_extension": ".py",
   "mimetype": "text/x-python",
   "name": "python",
   "nbconvert_exporter": "python",
   "pygments_lexer": "ipython3",
   "version": "3.7.3"
  }
 },
 "nbformat": 4,
 "nbformat_minor": 2
}
